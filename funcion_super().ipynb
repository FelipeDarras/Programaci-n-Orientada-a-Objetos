{
 "cells": [
  {
   "cell_type": "markdown",
   "metadata": {},
   "source": [
    "### FUNCION super()"
   ]
  },
  {
   "cell_type": "markdown",
   "metadata": {},
   "source": [
    " Función que usamos para, en primer lugar, dejar de repetir codigo y reutilizarlo dando acceso a los métodos ya existentes en una clase padre, heredada por sus hijos.\n",
    "Retorna un objeto temporal de la clase padre cuando la usamos."
   ]
  },
  {
   "cell_type": "code",
   "execution_count": 18,
   "metadata": {},
   "outputs": [],
   "source": [
    "class Rectangulo:\n",
    "    def __init__(self, largo, alto):\n",
    "        self.largo = largo\n",
    "        self.alto = alto\n",
    "\n",
    "class Cuadrado(Rectangulo):\n",
    "    def __init__(self, largo, alto):\n",
    "        super().__init__(largo, alto)\n",
    "    \n",
    "    def area(self):\n",
    "        return self.largo * self.alto\n",
    "\n",
    "class Cubo(Rectangulo):\n",
    "    def __init__(self, largo, alto, ancho):\n",
    "        super().__init__(largo, alto)\n",
    "        self.ancho = ancho\n",
    "    \n",
    "    def volumen(self):\n",
    "        return self.alto * self. largo * self.ancho\n"
   ]
  },
  {
   "cell_type": "code",
   "execution_count": 23,
   "metadata": {},
   "outputs": [
    {
     "name": "stdout",
     "output_type": "stream",
     "text": [
      "12\n"
     ]
    }
   ],
   "source": [
    "cuadrado = Cuadrado(4,3)\n",
    "print(cuadrado.area())"
   ]
  },
  {
   "cell_type": "code",
   "execution_count": 24,
   "metadata": {},
   "outputs": [],
   "source": [
    "cubo = Cubo(5,5,5)"
   ]
  },
  {
   "cell_type": "code",
   "execution_count": 25,
   "metadata": {},
   "outputs": [
    {
     "name": "stdout",
     "output_type": "stream",
     "text": [
      "125\n"
     ]
    }
   ],
   "source": [
    "print(cubo.volumen())"
   ]
  }
 ],
 "metadata": {
  "kernelspec": {
   "display_name": "Python 3.10.4 64-bit",
   "language": "python",
   "name": "python3"
  },
  "language_info": {
   "codemirror_mode": {
    "name": "ipython",
    "version": 3
   },
   "file_extension": ".py",
   "mimetype": "text/x-python",
   "name": "python",
   "nbconvert_exporter": "python",
   "pygments_lexer": "ipython3",
   "version": "3.10.4"
  },
  "orig_nbformat": 4,
  "vscode": {
   "interpreter": {
    "hash": "369f2c481f4da34e4445cda3fffd2e751bd1c4d706f27375911949ba6bb62e1c"
   }
  }
 },
 "nbformat": 4,
 "nbformat_minor": 2
}
